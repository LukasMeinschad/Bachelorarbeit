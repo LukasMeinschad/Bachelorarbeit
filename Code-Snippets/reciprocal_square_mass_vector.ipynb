{
 "cells": [
  {
   "cell_type": "markdown",
   "metadata": {},
   "source": [
    "# Test der Funktion reciprocal square mass\n",
    "\n"
   ]
  },
  {
   "cell_type": "code",
   "execution_count": 38,
   "metadata": {},
   "outputs": [
    {
     "ename": "SyntaxError",
     "evalue": "invalid syntax (2647659572.py, line 33)",
     "output_type": "error",
     "traceback": [
      "\u001b[0;36m  Cell \u001b[0;32mIn[38], line 33\u001b[0;36m\u001b[0m\n\u001b[0;31m    print(i:3)\u001b[0m\n\u001b[0m           ^\u001b[0m\n\u001b[0;31mSyntaxError\u001b[0m\u001b[0;31m:\u001b[0m invalid syntax\n"
     ]
    }
   ],
   "source": [
    "import numpy as np\n",
    "import pandas as pd\n",
    "from mendeleev.fetch import fetch_table\n",
    "\n",
    "import string #string library\n",
    "\n",
    "def get_mass_information() -> pd.DataFrame:\n",
    "    df = fetch_table('elements')\n",
    "    mass_info = df.loc[:,['symbol','atomic_weight']] # w\n",
    "    return mass_info\n",
    "# Define a table of atoms\n",
    "\n",
    "MASS_INFO = get_mass_information()\n",
    "\n",
    "print(MASS_INFO)\n",
    "\n",
    "\n",
    "ptable = fetch_table('elements')\n",
    "\n",
    "cols = ['atomic_number','symbol','atomic_radius']\n",
    "#print(ptable[cols].head())\n",
    "\n",
    "#print(mass_info) # Gives a Table with all the\n",
    "\n",
    "test= [('C1',(0.1)),('C2',(0.2))]\n",
    "\n",
    "print(len(df))\n",
    "\n",
    "diag_reciprocal_square = np.zeros(3*len(test)) # ein array mit 3N Spalten\n",
    "\n",
    "for i in range(0,len(test)):\n",
    "    diag_reciprocal_square[3*i:3*i+3] = 1\n",
    "    \n",
    "    \n",
    "\n",
    "print(diag_reciprocal_square)\n",
    "\n",
    "\n",
    "\n",
    "\n"
   ]
  }
 ],
 "metadata": {
  "kernelspec": {
   "display_name": "base",
   "language": "python",
   "name": "python3"
  },
  "language_info": {
   "codemirror_mode": {
    "name": "ipython",
    "version": 3
   },
   "file_extension": ".py",
   "mimetype": "text/x-python",
   "name": "python",
   "nbconvert_exporter": "python",
   "pygments_lexer": "ipython3",
   "version": "3.11.7"
  }
 },
 "nbformat": 4,
 "nbformat_minor": 2
}
