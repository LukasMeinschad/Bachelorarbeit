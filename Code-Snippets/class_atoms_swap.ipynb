{
 "cells": [
  {
   "cell_type": "markdown",
   "metadata": {},
   "source": [
    "# Methode tauschen eines H mit einem D\n"
   ]
  },
  {
   "cell_type": "code",
   "execution_count": 41,
   "metadata": {},
   "outputs": [
    {
     "name": "stdout",
     "output_type": "stream",
     "text": [
      "True\n",
      "[Atom(symbol='C1', coord=(0.0, 0.0, 0.5)), Atom(symbol='D2', coord=(0.0, 0.1, 4)), Atom(symbol='C', coord=(1.0, 1.0, 1.0))]\n"
     ]
    }
   ],
   "source": [
    "from typing import NamedTuple\n",
    "import numpy as np\n",
    "\n",
    "class Atom(NamedTuple):\n",
    "    symbol: str\n",
    "    coord: tuple\n",
    "\n",
    "c_atom = Atom('H1',(0.1,0.2,0.3))\n",
    "result = isinstance(c_atom,Atom)\n",
    "print(result) # gives true because the instance of the class is atom\n",
    "atom_list = [\n",
    "    Atom(symbol='C1', coord=(0.0, 0.0, 0.5)),\n",
    "    Atom(symbol='H2', coord=(0.0, 0.1, 4)),\n",
    "    Atom(symbol='C', coord=(1.0, 1.0, 1.0))\n",
    "]\n",
    "\n",
    "def substitute_H_with_D(obj):\n",
    "    if isinstance(obj, list):\n",
    "        return [substitute_H_with_D(item) for item in obj]\n",
    "    elif isinstance(obj, Atom):\n",
    "        if obj.symbol.startswith('H'):\n",
    "            return Atom(symbol='D' + obj.symbol[1:], coord=obj.coord)\n",
    "        else:\n",
    "            return obj\n",
    "    else:\n",
    "        return obj\n",
    "\n",
    "print(substitute_H_with_D(atom_list))\n"
   ]
  }
 ],
 "metadata": {
  "kernelspec": {
   "display_name": "base",
   "language": "python",
   "name": "python3"
  },
  "language_info": {
   "codemirror_mode": {
    "name": "ipython",
    "version": 3
   },
   "file_extension": ".py",
   "mimetype": "text/x-python",
   "name": "python",
   "nbconvert_exporter": "python",
   "pygments_lexer": "ipython3",
   "version": "3.11.7"
  }
 },
 "nbformat": 4,
 "nbformat_minor": 2
}
