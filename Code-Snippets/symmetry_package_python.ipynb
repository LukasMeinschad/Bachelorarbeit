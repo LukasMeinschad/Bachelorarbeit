{
 "cells": [
  {
   "cell_type": "markdown",
   "metadata": {},
   "source": [
    "# Ein kleiner Test für die Ausgabe einer Punktgruppe\n",
    "\n",
    "+ Einladen des entsprechenden Python Packages\n",
    "+ Erstellen einer Tabelle des Moleküls mit Numpy\n",
    "+ xyz File von Wasser auf einen Link\n",
    "\n",
    "https://raw.githubusercontent.com/nutjunkie/IQmol/master/share/fragments/Molecules/Water.xyz"
   ]
  },
  {
   "cell_type": "code",
   "execution_count": 21,
   "metadata": {},
   "outputs": [
    {
     "name": "stdout",
     "output_type": "stream",
     "text": [
      "The point group is:  C2v\n"
     ]
    }
   ],
   "source": [
    "import numpy as py\n",
    "\n",
    "import pymatgen.core as mg\n",
    "from pymatgen.core import Lattice, Structure, Molecule\n",
    "from pymatgen.symmetry.analyzer import PointGroupAnalyzer\n",
    "\n",
    "water = Molecule.from_file(\"/Users/lukas/Downloads/Water (1).xyz\") # Import water molecule \n",
    "\n",
    "water_pointgroup = PointGroupAnalyzer(water)\n",
    "\n",
    "print(\"The point group is: \" , water_pointgroup.get_pointgroup())\n",
    "\n",
    "## Iso Atomsymbol -->\n"
   ]
  },
  {
   "cell_type": "code",
   "execution_count": 22,
   "metadata": {},
   "outputs": [
    {
     "name": "stdout",
     "output_type": "stream",
     "text": [
      "The point group is:  C2v\n"
     ]
    }
   ],
   "source": [
    "import numpy as py\n",
    "\n",
    "import pymatgen.core as mg\n",
    "from pymatgen.core import Lattice, Structure, Molecule\n",
    "from pymatgen.symmetry.analyzer import PointGroupAnalyzer\n",
    "\n",
    "water = Molecule.from_file(\"/Users/lukas/Downloads/Water (1).xyz\") # Import water molecule \n",
    "\n",
    "water_pointgroup = PointGroupAnalyzer(water)\n",
    "\n",
    "print(\"The point group is: \" , water_pointgroup.get_pointgroup())\n",
    "\n",
    "\n"
   ]
  }
 ],
 "metadata": {
  "kernelspec": {
   "display_name": "base",
   "language": "python",
   "name": "python3"
  },
  "language_info": {
   "codemirror_mode": {
    "name": "ipython",
    "version": 3
   },
   "file_extension": ".py",
   "mimetype": "text/x-python",
   "name": "python",
   "nbconvert_exporter": "python",
   "pygments_lexer": "ipython3",
   "version": "3.11.7"
  }
 },
 "nbformat": 4,
 "nbformat_minor": 2
}
