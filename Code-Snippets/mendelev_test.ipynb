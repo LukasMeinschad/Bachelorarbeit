{
 "cells": [
  {
   "cell_type": "markdown",
   "metadata": {},
   "source": [
    "# Ein kleiner Test für das Bestimmen der Elemente mit dem mendeleev.fetch\n",
    "\n",
    "+ Beispiel bestimmen der jeweiligen Elemente\n",
    "+ "
   ]
  },
  {
   "cell_type": "code",
   "execution_count": 1,
   "metadata": {},
   "outputs": [
    {
     "name": "stdout",
     "output_type": "stream",
     "text": [
      "Si's name:  Silicon\n"
     ]
    }
   ],
   "source": [
    "import numpy as np\n",
    "import pandas as pd\n",
    "from mendeleev import Si, Fe, O\n",
    "\n",
    "print(\"Si's name: \",Si.name) # Printing out the Name of a Molecule\n"
   ]
  },
  {
   "cell_type": "markdown",
   "metadata": {},
   "source": [
    "In einer sqllite sind folgende Daten gespeichert\n",
    "\n",
    "+ Elemente\n",
    "+ ionenradien\n",
    "+ ionisationsenergien\n",
    "+ oxidationsstufen\n",
    "+ Gruppen?\n",
    "+ Serien\n",
    "+ Isotope\n",
    "\n",
    "Um ganze Tabellen zu bekommen können wir Fetch Table bekommen"
   ]
  },
  {
   "cell_type": "code",
   "execution_count": 4,
   "metadata": {},
   "outputs": [
    {
     "name": "stdout",
     "output_type": "stream",
     "text": [
      "<class 'pandas.core.frame.DataFrame'>\n",
      "RangeIndex: 118 entries, 0 to 117\n",
      "Data columns (total 69 columns):\n",
      " #   Column                         Non-Null Count  Dtype  \n",
      "---  ------                         --------------  -----  \n",
      " 0   annotation                     118 non-null    object \n",
      " 1   atomic_number                  118 non-null    int64  \n",
      " 2   atomic_radius                  90 non-null     float64\n",
      " 3   atomic_volume                  91 non-null     float64\n",
      " 4   block                          118 non-null    object \n",
      " 5   density                        118 non-null    float64\n",
      " 6   description                    109 non-null    object \n",
      " 7   dipole_polarizability          117 non-null    float64\n",
      " 8   electron_affinity              77 non-null     float64\n",
      " 9   electronic_configuration       118 non-null    object \n",
      " 10  evaporation_heat               88 non-null     float64\n",
      " 11  fusion_heat                    75 non-null     float64\n",
      " 12  group_id                       90 non-null     float64\n",
      " 13  lattice_constant               87 non-null     float64\n",
      " 14  lattice_structure              91 non-null     object \n",
      " 15  name                           118 non-null    object \n",
      " 16  period                         118 non-null    int64  \n",
      " 17  series_id                      118 non-null    int64  \n",
      " 18  specific_heat_capacity         85 non-null     float64\n",
      " 19  symbol                         118 non-null    object \n",
      " 20  thermal_conductivity           66 non-null     float64\n",
      " 21  vdw_radius                     103 non-null    float64\n",
      " 22  covalent_radius_cordero        96 non-null     float64\n",
      " 23  covalent_radius_pyykko         118 non-null    float64\n",
      " 24  en_pauling                     85 non-null     float64\n",
      " 25  en_allen                       71 non-null     float64\n",
      " 26  jmol_color                     109 non-null    object \n",
      " 27  cpk_color                      103 non-null    object \n",
      " 28  proton_affinity                32 non-null     float64\n",
      " 29  gas_basicity                   32 non-null     float64\n",
      " 30  heat_of_formation              89 non-null     float64\n",
      " 31  c6                             43 non-null     float64\n",
      " 32  covalent_radius_bragg          37 non-null     float64\n",
      " 33  vdw_radius_bondi               28 non-null     float64\n",
      " 34  vdw_radius_truhlar             16 non-null     float64\n",
      " 35  vdw_radius_rt                  9 non-null      float64\n",
      " 36  vdw_radius_batsanov            65 non-null     float64\n",
      " 37  vdw_radius_dreiding            21 non-null     float64\n",
      " 38  vdw_radius_uff                 103 non-null    float64\n",
      " 39  vdw_radius_mm3                 94 non-null     float64\n",
      " 40  abundance_crust                88 non-null     float64\n",
      " 41  abundance_sea                  81 non-null     float64\n",
      " 42  molcas_gv_color                103 non-null    object \n",
      " 43  en_ghosh                       103 non-null    float64\n",
      " 44  vdw_radius_alvarez             94 non-null     float64\n",
      " 45  c6_gb                          86 non-null     float64\n",
      " 46  atomic_weight                  118 non-null    float64\n",
      " 47  atomic_weight_uncertainty      74 non-null     float64\n",
      " 48  is_monoisotopic                21 non-null     object \n",
      " 49  is_radioactive                 118 non-null    bool   \n",
      " 50  cas                            118 non-null    object \n",
      " 51  atomic_radius_rahm             96 non-null     float64\n",
      " 52  geochemical_class              76 non-null     object \n",
      " 53  goldschmidt_class              118 non-null    object \n",
      " 54  metallic_radius                56 non-null     float64\n",
      " 55  metallic_radius_c12            63 non-null     float64\n",
      " 56  covalent_radius_pyykko_double  108 non-null    float64\n",
      " 57  covalent_radius_pyykko_triple  80 non-null     float64\n",
      " 58  discoverers                    118 non-null    object \n",
      " 59  discovery_year                 105 non-null    float64\n",
      " 60  discovery_location             105 non-null    object \n",
      " 61  name_origin                    118 non-null    object \n",
      " 62  sources                        118 non-null    object \n",
      " 63  uses                           112 non-null    object \n",
      " 64  mendeleev_number               118 non-null    int64  \n",
      " 65  dipole_polarizability_unc      117 non-null    float64\n",
      " 66  pettifor_number                103 non-null    float64\n",
      " 67  glawe_number                   103 non-null    float64\n",
      " 68  molar_heat_capacity            85 non-null     float64\n",
      "dtypes: bool(1), float64(45), int64(4), object(19)\n",
      "memory usage: 62.9+ KB\n"
     ]
    }
   ],
   "source": [
    "from mendeleev.fetch import fetch_table\n",
    "\n",
    "ptable = fetch_table(\"elements\")\n",
    "\n",
    "ptable.info() # Acessing the Information through some panda methods"
   ]
  }
 ],
 "metadata": {
  "kernelspec": {
   "display_name": "base",
   "language": "python",
   "name": "python3"
  },
  "language_info": {
   "codemirror_mode": {
    "name": "ipython",
    "version": 3
   },
   "file_extension": ".py",
   "mimetype": "text/x-python",
   "name": "python",
   "nbconvert_exporter": "python",
   "pygments_lexer": "ipython3",
   "version": "3.11.7"
  }
 },
 "nbformat": 4,
 "nbformat_minor": 2
}
